{
 "cells": [
  {
   "cell_type": "code",
   "execution_count": 5,
   "metadata": {},
   "outputs": [],
   "source": [
    "import numpy as np\n",
    "import cv2\n",
    "from matplotlib import pyplot as plt"
   ]
  },
  {
   "cell_type": "code",
   "execution_count": 12,
   "metadata": {},
   "outputs": [],
   "source": [
    "def showImg(name, img):\n",
    "    cv2.namedWindow(name, cv2.WINDOW_NORMAL)\n",
    "    cv2.resizeWindow(name, 1080,720)\n",
    "    cv2.imshow(name, img)"
   ]
  },
  {
   "cell_type": "code",
   "execution_count": 28,
   "metadata": {},
   "outputs": [],
   "source": [
    "img = cv2.imread('pieces.jpg')\n",
    "\n",
    "#define color bounds RED (hue, saturation, value)\n",
    "lower_r = np.array([0,80,80])\n",
    "upper_r = np.array([10,255,255])\n",
    "#define color bounds YELLOW (hue, saturation, value)\n",
    "lower_y = np.array([20,80,80])\n",
    "upper_y = np.array([30, 255, 255])\n",
    "\n",
    "#represent it in hsv colorspace\n",
    "img_hsv = cv2.cvtColor(img, cv2.COLOR_BGR2HSV)\n",
    "\n",
    "#use the thresholds to create different segment maps\n",
    "red = cv2.inRange(img_hsv, lower_r, upper_r)\n",
    "yellow = cv2.inRange(img_hsv, lower_y, upper_y)\n",
    "showImg(\"red\", red)\n",
    "showImg(\"yellow\", yellow)\n",
    "showImg(\"img\", img)\n",
    "cv2.waitKey(0)\n",
    "cv2.destroyAllWindows()\n"
   ]
  },
  {
   "cell_type": "code",
   "execution_count": null,
   "metadata": {},
   "outputs": [],
   "source": []
  },
  {
   "cell_type": "code",
   "execution_count": null,
   "metadata": {},
   "outputs": [],
   "source": []
  }
 ],
 "metadata": {
  "kernelspec": {
   "display_name": "Python 3",
   "language": "python",
   "name": "python3"
  },
  "language_info": {
   "codemirror_mode": {
    "name": "ipython",
    "version": 3
   },
   "file_extension": ".py",
   "mimetype": "text/x-python",
   "name": "python",
   "nbconvert_exporter": "python",
   "pygments_lexer": "ipython3",
   "version": "3.6.3"
  }
 },
 "nbformat": 4,
 "nbformat_minor": 2
}
